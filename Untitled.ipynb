{
 "cells": [
  {
   "cell_type": "code",
   "execution_count": 2,
   "metadata": {},
   "outputs": [
    {
     "name": "stderr",
     "output_type": "stream",
     "text": [
      "C:\\Users\\sai\\Anaconda3\\lib\\site-packages\\nltk\\twitter\\__init__.py:20: UserWarning: The twython library has not been installed. Some functionality from the twitter package will not be available.\n",
      "  warnings.warn(\"The twython library has not been installed. \"\n",
      " * Running on http://127.0.0.1:5000/ (Press CTRL+C to quit)\n"
     ]
    },
    {
     "name": "stdout",
     "output_type": "stream",
     "text": [
      "[nltk_data] Downloading package vader_lexicon to\n",
      "[nltk_data]     C:\\Users\\sai\\AppData\\Roaming\\nltk_data...\n",
      "[nltk_data]   Package vader_lexicon is already up-to-date!\n"
     ]
    }
   ],
   "source": [
    "from flask import Flask, render_template, request, flash, redirect, url_for\n",
    "\n",
    "import pandas as pd\n",
    "\n",
    "import base64\n",
    "\n",
    "import gensim\n",
    "from nltk.corpus import stopwords\n",
    "import matplotlib.pyplot as plt\n",
    "from collections import Counter\n",
    "\n",
    "stop = stopwords.words('english')\n",
    "import pyLDAvis\n",
    "import pyLDAvis.gensim\n",
    "from io import BytesIO\n",
    "\n",
    "import os, time\n",
    "from nltk.stem import WordNetLemmatizer, SnowballStemmer\n",
    "from nltk.stem.porter import *\n",
    "from nltk.sentiment.vader import SentimentIntensityAnalyzer\n",
    "import nltk\n",
    "\n",
    "nltk.download('vader_lexicon')\n",
    "\n",
    "home = os.path.expanduser('~')\n",
    "UPLOAD_FOLDER = os.path.join(home, 'Downloads')\n",
    "ALLOWED_EXTENSIONS = {'xlsx', 'csv'}\n",
    "\n",
    "app = Flask(__name__)\n",
    "app.config['UPLOAD_FOLDER'] = UPLOAD_FOLDER\n",
    "stemmer = SnowballStemmer(\"english\")\n",
    "\n",
    "\n",
    "def nps_score_calculation(ratinglist):\n",
    "    Promoters = ratinglist[5]\n",
    "    Detractors = ratinglist[1] + ratinglist[2] + ratinglist[3]\n",
    "    Passive = ratinglist[4]\n",
    "    Total = Promoters + Detractors + Passive\n",
    "    NPS = ((Promoters - Detractors) / Total) * 100\n",
    "    return NPS\n",
    "\n",
    "\n",
    "def sentiment_scores(sentence):\n",
    "    sid_obj = SentimentIntensityAnalyzer()\n",
    "    sentiment_dict = sid_obj.polarity_scores(sentence)\n",
    "    if sentiment_dict['compound'] >= 0.05:\n",
    "        return (\"Positive\")\n",
    "    elif sentiment_dict['compound'] <= - 0.05:\n",
    "        return (\"Negative\")\n",
    "    else:\n",
    "        return (\"Neutral\")\n",
    "\n",
    "\n",
    "def allowed_file(filename):\n",
    "    return '.' in filename and \\\n",
    "           filename.rsplit('.', 1)[1].lower() in ALLOWED_EXTENSIONS\n",
    "\n",
    "\n",
    "def lemmatize_stemming(text):\n",
    "    return stemmer.stem(WordNetLemmatizer().lemmatize(text, pos='v'))\n",
    "\n",
    "\n",
    "def preprocess(text):\n",
    "    result = []\n",
    "    for token in gensim.utils.simple_preprocess(text):\n",
    "        if token not in gensim.parsing.preprocessing.STOPWORDS and len(token) > 3:\n",
    "            result.append(lemmatize_stemming(token))\n",
    "    return result\n",
    "\n",
    "\n",
    "@app.route('/')\n",
    "def upload():\n",
    "    return render_template('index.html')\n",
    "\n",
    "\n",
    "@app.route('/uploader', methods=['GET', 'POST'])\n",
    "def upload_file():\n",
    "    if request.method == 'POST':\n",
    "        # check if the post request has the file part\n",
    "        topics = request.form.get(\"topic\")\n",
    "        if 'file' not in request.files:\n",
    "            flash('No file part')\n",
    "            return redirect(request.url)\n",
    "        file = request.files['file']\n",
    "        # if user does not select file, browser also\n",
    "        # submit an empty part without filename\n",
    "        if file.filename == '':\n",
    "            flash('No selected file')\n",
    "            return redirect(request.url)\n",
    "        if file and allowed_file(file.filename):\n",
    "            data = pd.read_csv(file)\n",
    "            data.iloc[:, 0] = data.iloc[:, 0].fillna(\"NO REVIEW\")\n",
    "            reviews_text = data.iloc[:, 0].values.tolist()\n",
    "            reviews_text = [re.sub(r'[^A-Za-z\\s]', '', text) for text in reviews_text]\n",
    "            data.iloc[:, 0] = reviews_text\n",
    "            data.iloc[:, 0] = data.iloc[:, 0].apply(\n",
    "                lambda x: ' '.join([word for word in x.split() if word not in (stop)]))\n",
    "            processed_docs = data.iloc[:, 0].map(preprocess)\n",
    "            dictionary = gensim.corpora.Dictionary(processed_docs)\n",
    "            dictionary.filter_extremes(no_below=15, no_above=0.5, keep_n=100000)\n",
    "            bow_corpus = [dictionary.doc2bow(doc) for doc in processed_docs]\n",
    "            lda_model = gensim.models.LdaMulticore(bow_corpus, num_topics=int(topics), id2word=dictionary, passes=2,\n",
    "                                                   workers=2)\n",
    "            top_words_per_topic = []\n",
    "            for t in range(lda_model.num_topics):\n",
    "                top_words_per_topic.extend([(t,) + x for x in lda_model.show_topic(t, topn=30)])\n",
    "\n",
    "            wor = pd.DataFrame(top_words_per_topic, columns=['Topic', 'Word', 'P'])\n",
    "            path = str(UPLOAD_FOLDER) + r\"/topic.csv\"\n",
    "            wor.to_csv(path)\n",
    "            # pyLDAvis.enable_notebook()\n",
    "            vis = pyLDAvis.gensim.prepare(lda_model, bow_corpus, dictionary)\n",
    "            # pyLDAvis.show(vis)\n",
    "            result = \"templates/result.html\"\n",
    "            # figfile = BytesIO()\n",
    "            pyLDAvis.save_html(vis, result)\n",
    "            time.sleep(15)\n",
    "            return render_template(\"result.html\")\n",
    "    return render_template('ts.html')\n",
    "\n",
    "\n",
    "@app.route('/sentiment', methods=['GET', 'POST'])\n",
    "def sentiment():\n",
    "    select_name = \"sentiment\"\n",
    "    if request.method == 'POST':\n",
    "        if 'file' not in request.files:\n",
    "            flash('No file part')\n",
    "            return redirect(request.url)\n",
    "        file = request.files['file']\n",
    "        if file.filename == '':\n",
    "            flash('No selected file')\n",
    "            return redirect(request.url)\n",
    "        if file and allowed_file(file.filename):\n",
    "            data = pd.read_csv(file)\n",
    "            data[\"text\"] = data[\"text\"].fillna(\"NO REVIEW\")\n",
    "            ra = data[\"text\"]\n",
    "            print(ra.values)\n",
    "            sscore = []\n",
    "            for i in ra.values:\n",
    "                a = sentiment_scores(i)\n",
    "                sscore.append(a)\n",
    "            scounter = Counter(sscore)\n",
    "            print(scounter)\n",
    "            figfile = BytesIO()\n",
    "            plt.title(\"Reviews\")\n",
    "            plt.bar(scounter.keys(), scounter.values())\n",
    "            # plt.savefig('new_plot.png')\n",
    "            # figfile.seek(0)\n",
    "            plt.savefig(figfile, format='png')\n",
    "            figfile.seek(0)\n",
    "            figdata_png = base64.b64encode(figfile.getvalue()).decode()\n",
    "            result = \"data:image/png;base64,\"+figdata_png\n",
    "            return render_template('index.html', name='Sentiment', url=result, select_sentiment=select_name)\n",
    "    return render_template('pre_sentiment.html')\n",
    "\n",
    "\n",
    "@app.route('/analytics', methods=['GET', 'POST'])\n",
    "def nps_cal():\n",
    "    select_name = \"nps\"\n",
    "    if request.method == 'POST':\n",
    "        # check if the post request has the file part\n",
    "        topics = request.form.get(\"topic\")\n",
    "        if 'file' not in request.files:\n",
    "            flash('No file part')\n",
    "            return redirect(request.url)\n",
    "        file = request.files['file']\n",
    "        # if user does not select file, browser also\n",
    "        # submit an empty part without filename\n",
    "        if file.filename == '':\n",
    "            flash('No selected file')\n",
    "            return redirect(request.url)\n",
    "        if file and allowed_file(file.filename):\n",
    "            data = pd.read_csv(file)\n",
    "            categories = data[\"categories\"]\n",
    "            cat_counter = Counter(categories.values)\n",
    "            nps_scores = {}\n",
    "            for i in cat_counter:\n",
    "                newdf = data[(data.categories == i)]\n",
    "                ratings = newdf[\"reviews.rating\"]\n",
    "                counter = Counter(ratings.values)\n",
    "                n = nps_score_calculation(counter)\n",
    "                nps_scores[i] = n\n",
    "            {k: v for k, v in sorted(nps_scores.items(), key=lambda item: item[1])}\n",
    "            figfile = BytesIO()\n",
    "            plt.plot(nps_scores.values())\n",
    "            # plt.show()\n",
    "            plt.savefig(figfile, format='png')\n",
    "            figfile.seek(0)\n",
    "            figdata_png = base64.b64encode(figfile.getvalue()).decode()\n",
    "            result = \"data:image/png;base64,\" + figdata_png\n",
    "            # plt.savefig('/static/images/new_plot_1.png')\n",
    "            return render_template('index.html', name='NPS', url=result, select_nps=select_name)\n",
    "    return render_template('pre_nps.html')\n",
    "\n",
    "@app.route('/timeseries', methods=['GET', 'POST'])\n",
    "def timeseries_cal():\n",
    "    return \"timeseries\"\n",
    "\n",
    "if __name__ == '__main__':\n",
    "    app.run()"
   ]
  },
  {
   "cell_type": "code",
   "execution_count": 16,
   "metadata": {},
   "outputs": [],
   "source": [
    "data=r\"C:\\Users\\sai\\Untitled Folder 1\\data/date_rating.xlsx\"\n",
    "df = pd.read_excel(data,parse_dates=['reviews.date'])\n",
    "df1=df.dropna()\n",
    "df1 = df1.sort_values(by=\"reviews.date\")\n",
    "df1['reviews.date'] = pd.to_datetime(df1['reviews.date'], dayfirst=True)\n",
    "df1['year']= df1['reviews.date'].dt.year\n",
    "df1['month']= df1['reviews.date'].dt.month\n",
    "df1['day']= df1['reviews.date'].dt.day\n",
    "\n",
    "df1 = df1.set_index(['reviews.date'])\n",
    "df2=df1.resample('M').mean()\n",
    "df3=df1.dropna()\n",
    "df_reviews=df3['rating'].groupby(df3.month).agg('count')\n",
    "nps_Months=[]\n",
    "for i in range(1,13):\n",
    "    rslt_df = df3[df3['month'] == i]\n",
    "    n=nps_score_calculation(rslt_df[\"rating\"])\n",
    "    nps_Months.append(n)\n",
    "df_recomend = pd.DataFrame(nps_Months,columns=['NPS'])"
   ]
  },
  {
   "cell_type": "code",
   "execution_count": 24,
   "metadata": {},
   "outputs": [
    {
     "data": {
      "text/plain": [
       "<matplotlib.axes._subplots.AxesSubplot at 0x1cc56887080>"
      ]
     },
     "execution_count": 24,
     "metadata": {},
     "output_type": "execute_result"
    },
    {
     "data": {
      "image/png": "[encoded data removed]",
      "text/plain": [
       "<Figure size 432x288 with 1 Axes>"
      ]
     },
     "metadata": {},
     "output_type": "display_data"
    }
   ],
   "source": [
    "df_reviews.plot()"
   ]
  },
  {
   "cell_type": "code",
   "execution_count": 25,
   "metadata": {},
   "outputs": [
    {
     "data": {
      "text/plain": [
       "<matplotlib.axes._subplots.AxesSubplot at 0x1cc56504ba8>"
      ]
     },
     "execution_count": 25,
     "metadata": {},
     "output_type": "execute_result"
    },
    {
     "data": {
      "image/png": "[encoded data removed]",
      "text/plain": [
       "<Figure size 432x288 with 1 Axes>"
      ]
     },
     "metadata": {},
     "output_type": "display_data"
    }
   ],
   "source": [
    "df_recomend.plot()"
   ]
  },
  {
   "cell_type": "code",
   "execution_count": null,
   "metadata": {},
   "outputs": [],
   "source": []
  }
 ],
 "metadata": {
  "kernelspec": {
   "display_name": "Python 3",
   "language": "python",
   "name": "python3"
  },
  "language_info": {
   "codemirror_mode": {
    "name": "ipython",
    "version": 3
   },
   "file_extension": ".py",
   "mimetype": "text/x-python",
   "name": "python",
   "nbconvert_exporter": "python",
   "pygments_lexer": "ipython3",
   "version": "3.6.5"
  }
 },
 "nbformat": 4,
 "nbformat_minor": 2
}
